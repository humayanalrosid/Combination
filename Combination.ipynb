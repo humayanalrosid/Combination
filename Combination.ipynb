{
 "cells": [
  {
   "attachments": {},
   "cell_type": "markdown",
   "metadata": {
    "datalore": {
     "hide_input_from_viewers": false,
     "hide_output_from_viewers": false,
     "type": "MD"
    }
   },
   "source": [
    "# **Problem 1**\n",
    "Use the numbers below to form 4 digit numbers that can be divided by 2 exactly (without remainder) <br>\n",
    "\n",
    "**Use all the digits only once** <br>\n",
    "\n",
    "**`3 2 0 5`**\n",
    "\n",
    "How many 4 digit numbers can be formed? <br>\n",
    "*(Do not start with the number zero)* <br>\n",
    "\n",
    "### **Understand**\n",
    "- What type of numbers are to be formed?\n",
    "- What are you asked to find?\n",
    "\n",
    " <hr style=\"border: 0.01em solid gray\"> <br>\n",
    " Problem By <a href=\"https://github.com/humayanalrosid\">Humayan</a>\n"
   ]
  },
  {
   "cell_type": "code",
   "execution_count": 6,
   "metadata": {
    "datalore": {
     "hide_input_from_viewers": false,
     "hide_output_from_viewers": false,
     "type": "CODE"
    }
   },
   "outputs": [],
   "source": [
    "import functools\n",
    "\n",
    "def combination(x):\n",
    "\n",
    "    for i in range(4):\n",
    "\n",
    "        for j in range(4):\n",
    "\n",
    "            for k in range(4):\n",
    "\n",
    "                for l in range(4):\n",
    "                \n",
    "                    # combination of (i, j, k, l) : ij ik il jk kl jl\n",
    "                    if i != j and i !=k and i != l and j != k and k != l and j != l:\n",
    "\n",
    "                      if x[i] != 0:\n",
    "                        \n",
    "                        result = x[i], x[j], x[k], x[l]\n",
    "                          \n",
    "                        # convert tuple to int using lambda function\n",
    "                        numbers = functools.reduce(lambda sub, ele: sub * 10 + ele, result)\n",
    "                          \n",
    "                        # divided by 2 exactly (without remainder)\n",
    "                        if numbers % 2 == 0:\n",
    "                            print(numbers)\n",
    "\n",
    "combination([3, 2, 0, 5])\n"
   ]
  },
  {
   "cell_type": "code",
   "execution_count": null,
   "metadata": {
    "datalore": {
     "hide_input_from_viewers": false,
     "hide_output_from_viewers": false,
     "type": "CODE"
    }
   },
   "outputs": [],
   "source": []
  }
 ],
 "metadata": {
  "datalore": {
   "base_environment": "default",
   "computation_mode": "JUPYTER",
   "package_manager": "pip",
   "packages": [],
   "version": 1
  },
  "interpreter": {
   "hash": "0c306993224a23ccf5db9451e653a0edc76ff5d09c4d2e23f9244b3fc307b88f"
  },
  "kernelspec": {
   "display_name": "Python 3.9.12 64-bit (windows store)",
   "language": "python",
   "name": "python3"
  },
  "language_info": {
   "name": "python",
   "version": "3.9.12"
  }
 },
 "nbformat": 4,
 "nbformat_minor": 4
}
