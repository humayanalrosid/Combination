{
 "cells":[
  {
   "cell_type":"markdown",
   "source":[
    "# **Problem 1**\n",
    "Use the numbers below to form 4 digit numbers that can be divided by 2 exactly (without remainder) <br>\n",
    "\n",
    "**Use all the digits only once** <br>\n",
    "\n",
    "**`3 2 0 5`**\n",
    "\n",
    "How many 4 digit numbers can be formed? <br>\n",
    "*(Do not start with the number zero)* <br>\n",
    "\n",
    "### **Understand**\n",
    "- What type of numbers are to be formed?\n",
    "- What are you asked to find?\n",
    "\n",
    "### **Hint**\n",
    "- Use **Math combinations** formula without repeating the same digits.\n",
    "\n",
    "### **Sample Input**\n",
    "**`3 2 0 5`**\n",
    "\n",
    "### **Sample Output**\n",
    "**`3250`** <br> \n",
    "**`3052`** <br>\n",
    "**`3520`** <br>\n",
    "**`3502`** <br>\n",
    "**`2350`** <br>\n",
    "**`2530`** <br>\n",
    "**`5320`** <br>\n",
    "**`5302`** <br>\n",
    "**`5230`** <br>\n",
    "**`5032`** <br>\n",
    "\n",
    "<hr style=\"border: 0.01em solid gray\"> <br>\n",
    "Problem By <a href=\"https:\/\/github.com\/humayanalrosid\">Humayan<\/a>\n"
   ],
   "attachments":{
    
   },
   "metadata":{
    "datalore":{
     "type":"MD",
     "hide_input_from_viewers":false,
     "hide_output_from_viewers":false
    }
   }
  },
  {
   "cell_type":"code",
   "source":[
    "import functools\n",
    "\n",
    "def combination(x):\n",
    "\n",
    "    for i in range(4):\n",
    "\n",
    "        for j in range(4):\n",
    "\n",
    "            for k in range(4):\n",
    "\n",
    "                for l in range(4):\n",
    "                \n",
    "                    # combination of (i, j, k, l) : ij ik il jk kl jl\n",
    "                    if i != j and i !=k and i != l and j != k and k != l and j != l:\n",
    "\n",
    "                      if x[i] != 0:\n",
    "                        \n",
    "                        result = x[i], x[j], x[k], x[l]\n",
    "                          \n",
    "                        # convert tuple to int using lambda function\n",
    "                        numbers = functools.reduce(lambda sub, ele: sub * 10 + ele, result)\n",
    "                          \n",
    "                        # divided by 2 exactly (without remainder)\n",
    "                        if numbers % 2 == 0:\n",
    "                            print(numbers)\n",
    "\n",
    "combination([3, 2, 0, 5])\n"
   ],
   "execution_count":8,
   "outputs":[
    {
     "name":"stdout",
     "text":[
      "3250\n",
      "3052\n",
      "3520\n",
      "3502\n",
      "2350\n",
      "2530\n",
      "5320\n",
      "5302\n",
      "5230\n",
      "5032\n"
     ],
     "output_type":"stream"
    }
   ],
   "metadata":{
    "datalore":{
     "type":"CODE",
     "hide_input_from_viewers":false,
     "hide_output_from_viewers":false
    }
   }
  },
  {
   "cell_type":"code",
   "source":[
    
   ],
   "execution_count":null,
   "outputs":[
    
   ],
   "metadata":{
    "datalore":{
     "type":"CODE",
     "hide_input_from_viewers":false,
     "hide_output_from_viewers":false
    }
   }
  }
 ],
 "metadata":{
  "datalore":{
   "version":1,
   "computation_mode":"JUPYTER",
   "package_manager":"pip",
   "base_environment":"default",
   "packages":[
    
   ]
  }
 },
 "nbformat":4,
 "nbformat_minor":4
}